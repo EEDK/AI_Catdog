{
 "cells": [
  {
   "cell_type": "code",
   "execution_count": 25,
   "metadata": {},
   "outputs": [],
   "source": [
    "import torch\n",
    "import torch.nn as nn\n",
    "import torch.nn.functional as F\n",
    "import torchvision\n",
    "import numpy as np\n",
    "import pandas as pd\n",
    "import matplotlib.pyplot as plt\n",
    "from torchsummary import summary\n",
    "\n",
    "import PIL\n",
    "import shutil\n",
    "import zipfile\n",
    "import glob\n",
    "import os\n",
    "import time\n",
    "import random\n",
    "import timm\n",
    "import tqdm"
   ]
  },
  {
   "attachments": {},
   "cell_type": "markdown",
   "metadata": {},
   "source": [
    "데이터 파싱"
   ]
  },
  {
   "cell_type": "code",
   "execution_count": 26,
   "metadata": {},
   "outputs": [
    {
     "data": {
      "text/plain": [
       "'\\nfor beverage_can, beverage_bottle, noodle_cup, noodle_bag in zip(beverage_can_files[:300], beverage_bottle_files[:300], noodle_cup_files[:300], noodle_bag_files[:300]):\\n    src = os.path.join(train_dir, beverage_can)\\n    dst = os.path.join(train_set_dir, beverage_can)\\n    shutil.move(src, dst)\\n\\n    src = os.path.join(train_dir, beverage_bottle)\\n    dst = os.path.join(train_set_dir, beverage_bottle)\\n    shutil.move(src, dst)\\n\\n    src =os.path.join(train_dir, noodle_cup)\\n    dst = os.path.join(train_set_dir, noodle_cup)\\n    shutil.move(src, dst)\\n\\n    src = os.path.join(train_dir, noodle_bag)\\n    dst = os.path.join(train_set_dir, noodle_bag)\\n    shutil.move(src, dst)\\n\\nfor beverage_can, beverage_bottle, noodle_cup, noodle_bag in zip(beverage_can_files[300:400], beverage_bottle_files[300:400],noodle_cup_files[300:400], noodle_bag_files[300:400]):\\n    src = os.path.join(train_dir, beverage_can)\\n    dst = os.path.join(valid_set_dir, beverage_can)\\n    shutil.move(src, dst)\\n\\n    src = os.path.join(train_dir, beverage_bottle)\\n    dst = os.path.join(valid_set_dir, beverage_bottle)\\n    shutil.move(src, dst)\\n\\n    src =os.path.join(train_dir, noodle_cup)\\n    dst = os.path.join(train_set_dir, noodle_cup)\\n    shutil.move(src, dst)\\n\\n    src = os.path.join(train_dir, noodle_bag)\\n    dst = os.path.join(train_set_dir, noodle_bag)\\n    shutil.move(src, dst)\\n\\n\\nfor beverage_can, beverage_bottle, noodle_cup, noodle_bag in zip(beverage_can_files[400:500], beverage_bottle_files[400:500], noodle_cup_files[400:500], noodle_bag_files[400:500]):\\n    src = os.path.join(train_dir, beverage_can)\\n    dst = os.path.join(test_set_dir, beverage_can)\\n    shutil.move(src, dst)\\n\\n    src = os.path.join(train_dir, beverage_bottle)\\n    dst = os.path.join(test_set_dir, beverage_bottle)\\n    shutil.move(src, dst)\\n\\n    src =os.path.join(train_dir, noodle_cup)\\n    dst = os.path.join(train_set_dir, noodle_cup)\\n    shutil.move(src, dst)\\n\\n    src = os.path.join(train_dir, noodle_bag)\\n    dst = os.path.join(train_set_dir, noodle_bag)\\n    shutil.move(src, dst)\\n'"
      ]
     },
     "execution_count": 26,
     "metadata": {},
     "output_type": "execute_result"
    }
   ],
   "source": [
    "device = 'cuda' if torch.cuda.is_available() else 'cpu'\n",
    "dataDir = './dataset/AI-DATASET/data'\n",
    "torch.cuda.empty_cache()\n",
    "\n",
    "trainData_dir = os.path.join(dataDir, 'trainData')\n",
    "train_dir = os.path.join(dataDir, 'train')\n",
    "test_dir = os.path.join(dataDir, 'test')\n",
    "\n",
    "# beverage_can_dir = os.path.join(trainData_dir, 'beverage_can')\n",
    "# beverage_bottle_files = os.path.join(trainData_dir, 'beverage_bottle')\n",
    "\n",
    "beverage_can_files = [f'beverage_can.{i}.jpg' for i in range(1,  501)]\n",
    "beverage_bottle_files = [f'beverage_bottle.{i}.jpg' for i in range(1,  501)]\n",
    "noodle_cup_files  = [f'noodle_cup.{i}.jpg' for i in range(1,  501)]\n",
    "noodle_bag_files  = [f'noodle_bag.{i}.jpg' for i in range(1,  501)]\n",
    "\n",
    "\n",
    "# train, valid, test 폴더 생성\n",
    "\n",
    "train_set_dir = os.path.join(train_dir, 'train')\n",
    "# os.mkdir(train_set_dir)\n",
    "valid_set_dir = os.path.join(train_dir, 'valid')\n",
    "# os.mkdir(valid_set_dir)\n",
    "test_set_dir = os.path.join(train_dir, 'test')\n",
    "# os.mkdir(test_set_dir)\n",
    "\n",
    "\"\"\"\n",
    "for beverage_can, beverage_bottle, noodle_cup, noodle_bag in zip(beverage_can_files[:300], beverage_bottle_files[:300], noodle_cup_files[:300], noodle_bag_files[:300]):\n",
    "    src = os.path.join(train_dir, beverage_can)\n",
    "    dst = os.path.join(train_set_dir, beverage_can)\n",
    "    shutil.move(src, dst)\n",
    "\n",
    "    src = os.path.join(train_dir, beverage_bottle)\n",
    "    dst = os.path.join(train_set_dir, beverage_bottle)\n",
    "    shutil.move(src, dst)\n",
    "\n",
    "    src =os.path.join(train_dir, noodle_cup)\n",
    "    dst = os.path.join(train_set_dir, noodle_cup)\n",
    "    shutil.move(src, dst)\n",
    "\n",
    "    src = os.path.join(train_dir, noodle_bag)\n",
    "    dst = os.path.join(train_set_dir, noodle_bag)\n",
    "    shutil.move(src, dst)\n",
    "\n",
    "for beverage_can, beverage_bottle, noodle_cup, noodle_bag in zip(beverage_can_files[300:400], beverage_bottle_files[300:400],noodle_cup_files[300:400], noodle_bag_files[300:400]):\n",
    "    src = os.path.join(train_dir, beverage_can)\n",
    "    dst = os.path.join(valid_set_dir, beverage_can)\n",
    "    shutil.move(src, dst)\n",
    "\n",
    "    src = os.path.join(train_dir, beverage_bottle)\n",
    "    dst = os.path.join(valid_set_dir, beverage_bottle)\n",
    "    shutil.move(src, dst)\n",
    "\n",
    "    src =os.path.join(train_dir, noodle_cup)\n",
    "    dst = os.path.join(train_set_dir, noodle_cup)\n",
    "    shutil.move(src, dst)\n",
    "\n",
    "    src = os.path.join(train_dir, noodle_bag)\n",
    "    dst = os.path.join(train_set_dir, noodle_bag)\n",
    "    shutil.move(src, dst)\n",
    "\n",
    "\n",
    "for beverage_can, beverage_bottle, noodle_cup, noodle_bag in zip(beverage_can_files[400:500], beverage_bottle_files[400:500], noodle_cup_files[400:500], noodle_bag_files[400:500]):\n",
    "    src = os.path.join(train_dir, beverage_can)\n",
    "    dst = os.path.join(test_set_dir, beverage_can)\n",
    "    shutil.move(src, dst)\n",
    "\n",
    "    src = os.path.join(train_dir, beverage_bottle)\n",
    "    dst = os.path.join(test_set_dir, beverage_bottle)\n",
    "    shutil.move(src, dst)\n",
    "\n",
    "    src =os.path.join(train_dir, noodle_cup)\n",
    "    dst = os.path.join(train_set_dir, noodle_cup)\n",
    "    shutil.move(src, dst)\n",
    "\n",
    "    src = os.path.join(train_dir, noodle_bag)\n",
    "    dst = os.path.join(train_set_dir, noodle_bag)\n",
    "    shutil.move(src, dst)\n",
    "\"\"\""
   ]
  },
  {
   "cell_type": "code",
   "execution_count": 27,
   "metadata": {},
   "outputs": [],
   "source": [
    "def seed_everything(seed=42):\n",
    "  os.environ['PYTHONHASHSEED'] = str(seed)\n",
    "  np.random.seed(seed)\n",
    "  random.seed(seed)\n",
    "  torch.manual_seed(seed)\n",
    "  torch.cuda.manual_seed(seed)\n",
    "  torch.backends.cudnn.deterministic = True\n",
    "  torch.backends.cudnn.benchmark = True\n",
    "\n",
    "seed_everything()"
   ]
  },
  {
   "attachments": {},
   "cell_type": "markdown",
   "metadata": {},
   "source": [
    "데이터셋 설정"
   ]
  },
  {
   "cell_type": "code",
   "execution_count": 28,
   "metadata": {},
   "outputs": [],
   "source": [
    "class CustomDataset(torch.utils.data.Dataset):\n",
    "    def __init__(self, files, root, mode='train', transform=None):\n",
    "        self.files = files\n",
    "        self.root = root\n",
    "        self.mode = mode\n",
    "        self.transform=transform\n",
    "        \n",
    "        if 'beverage_can' in files[0]:\n",
    "            self.label = 0\n",
    "        elif 'beverage_bottle' in files[0]:\n",
    "            self.label = 1\n",
    "        elif 'noodle_bag' in files[0]:\n",
    "            self.label = 2\n",
    "        else:\n",
    "            self.label = 3\n",
    "\n",
    "\n",
    "    def __len__(self):\n",
    "        return len(self.files)\n",
    "    \n",
    "    def __getitem__(self, index):\n",
    "        img = PIL.Image.open(os.path.join(self.root, self.files[index]))\n",
    "        \n",
    "        if self.transform:\n",
    "            img = self.transform(img)\n",
    "        if self.mode == 'train':\n",
    "            return img, np.array([self.label])\n",
    "        else:\n",
    "            return img, self.files[index]"
   ]
  },
  {
   "attachments": {},
   "cell_type": "markdown",
   "metadata": {},
   "source": [
    "데이터 전처리"
   ]
  },
  {
   "cell_type": "code",
   "execution_count": 29,
   "metadata": {},
   "outputs": [
    {
     "name": "stdout",
     "output_type": "stream",
     "text": [
      "학습 데이터셋 크기: 1600\n",
      "테스트 데이터셋 크기: 400\n",
      "클래스: ['beverage_bottle', 'beverage_can', 'noodle_bag', 'noodle_cup']\n"
     ]
    }
   ],
   "source": [
    "\n",
    "# 데이터셋을 불러올 때 사용할 변형(transformation) 객체 정의\n",
    "transforms_train = torchvision.transforms.Compose([\n",
    "    torchvision.transforms.Resize((224, 224)),\n",
    "    torchvision.transforms.RandomHorizontalFlip(), # 데이터 증진(augmentation)\n",
    "    torchvision.transforms.ToTensor(),\n",
    "    torchvision.transforms.Normalize([0.485, 0.456, 0.406], [0.229, 0.224, 0.225]) # 정규화(normalization)\n",
    "])\n",
    "\n",
    "transforms_test = torchvision.transforms.Compose([\n",
    "    torchvision.transforms.Resize((224, 224)),\n",
    "    torchvision.transforms.ToTensor(),\n",
    "    torchvision.transforms.Normalize([0.485, 0.456, 0.406], [0.229, 0.224, 0.225])\n",
    "])\n",
    "\n",
    "\n",
    "\n",
    "# train_beverage_can_dataset = CustomDataset(beverage_can_files[:300], train_set_dir, transform=transforms_train)\n",
    "# train_beverage_bottle_dataset = CustomDataset(beverage_bottle_files[:300], train_set_dir, transform=transforms_train)\n",
    "# train_noodle_cup_dataset = CustomDataset(noodle_cup_files[:300], train_set_dir, transform=transforms_train)\n",
    "# train_noodle_bag_dataset = CustomDataset(noodle_bag_files[:300], train_set_dir, transform=transforms_train)\n",
    "\n",
    "\n",
    "# valid_beverage_can_dataset = CustomDataset(beverage_can_files[300:400], valid_set_dir, transform=transforms_test)\n",
    "# valid_beverage_bottle_dataset = CustomDataset(beverage_bottle_files[300:400], valid_set_dir, transform=transforms_test)\n",
    "# valid_noodle_cup_dataset = CustomDataset(noodle_cup_files[300:400], train_set_dir, transform=transforms_test)\n",
    "# valid_noodle_bag_dataset = CustomDataset(noodle_bag_files[300:400], train_set_dir, transform=transforms_test)\n",
    "\n",
    "\n",
    "# test_beverage_can_dataset = CustomDataset(beverage_can_files[400:], test_set_dir, transform=transforms_test)\n",
    "# test_beverage_bottle_dataset = CustomDataset(beverage_bottle_files[400:], test_set_dir, transform=transforms_test)\n",
    "# test_noodle_cup_dataset = CustomDataset(noodle_cup_files[400:], train_set_dir, transform=transforms_test)\n",
    "# test_noodle_bag_dataset = CustomDataset(noodle_bag_files[400:], train_set_dir, transform=transforms_test )\n",
    "\n",
    " \n",
    "# train_dataset = torch.utils.data.ConcatDataset([train_beverage_can_dataset, train_beverage_bottle_dataset, train_noodle_cup_dataset, train_noodle_bag_dataset])\n",
    "# valid_dataset = torch.utils.data.ConcatDataset([valid_beverage_can_dataset, valid_beverage_bottle_dataset, valid_noodle_cup_dataset, valid_noodle_bag_dataset])\n",
    "# test_dataset = torch.utils.data.ConcatDataset([test_beverage_can_dataset, test_beverage_bottle_dataset, test_noodle_cup_dataset, test_noodle_bag_dataset])\n",
    "\n",
    "\n",
    "# print(f'number of train dataset : {len(train_dataset)}')\n",
    "# print(f'number of valid dataset : {len(valid_dataset)}')\n",
    "# print(f'number of test dataset : {len(test_dataset)}')\n",
    "\n",
    "# train_loader = torch.utils.data.DataLoader(train_dataset, batch_size=32, shuffle=True, num_workers=0)\n",
    "# valid_loader = torch.utils.data.DataLoader(valid_dataset, batch_size=32, shuffle=True, num_workers=0)\n",
    "# test_loader = torch.utils.data.DataLoader(test_dataset, batch_size=32, shuffle=True, num_workers=0)\n",
    "\n",
    "train_datasets = torchvision.datasets.ImageFolder(os.path.join(train_set_dir), transforms_train)\n",
    "test_datasets = torchvision.datasets.ImageFolder(os.path.join(test_set_dir), transforms_test)\n",
    "\n",
    "train_dataloader = torch.utils.data.DataLoader(train_datasets, batch_size=4, shuffle=True, num_workers=4)\n",
    "test_dataloader = torch.utils.data.DataLoader(test_datasets, batch_size=4, shuffle=True, num_workers=4)\n",
    "\n",
    "print('학습 데이터셋 크기:', len(train_datasets))\n",
    "print('테스트 데이터셋 크기:', len(test_datasets))\n",
    "\n",
    "class_names = train_datasets.classes\n",
    "print('클래스:', class_names)\n",
    "\n"
   ]
  },
  {
   "attachments": {},
   "cell_type": "markdown",
   "metadata": {},
   "source": [
    "사용할 모델"
   ]
  },
  {
   "cell_type": "code",
   "execution_count": 30,
   "metadata": {},
   "outputs": [
    {
     "name": "stderr",
     "output_type": "stream",
     "text": [
      "c:\\Users\\kde96\\.conda\\envs\\PyeonHaeng\\lib\\site-packages\\torchvision\\models\\_utils.py:208: UserWarning: The parameter 'pretrained' is deprecated since 0.13 and may be removed in the future, please use 'weights' instead.\n",
      "  warnings.warn(\n",
      "c:\\Users\\kde96\\.conda\\envs\\PyeonHaeng\\lib\\site-packages\\torchvision\\models\\_utils.py:223: UserWarning: Arguments other than a weight enum or `None` for 'weights' are deprecated since 0.13 and may be removed in the future. The current behavior is equivalent to passing `weights=ResNet34_Weights.IMAGENET1K_V1`. You can also use `weights=ResNet34_Weights.DEFAULT` to get the most up-to-date weights.\n",
      "  warnings.warn(msg)\n"
     ]
    }
   ],
   "source": [
    "model = torchvision.models.resnet34(pretrained=True)\n",
    "num_features = model.fc.in_features\n",
    "# 전이 학습(transfer learning): 모델의 출력 뉴런 수를 n개로 교체하여 마지막 레이어 다시 학습\n",
    "model.fc = nn.Linear(num_features, 5)\n",
    "model = model.to(device)\n",
    "\n",
    "criterion = nn.CrossEntropyLoss()\n",
    "optimizer = torch.optim.SGD(model.parameters(), lr=0.001, momentum=0.9)"
   ]
  },
  {
   "cell_type": "code",
   "execution_count": 31,
   "metadata": {},
   "outputs": [
    {
     "data": {
      "image/png": "[encoded data removed]",
      "text/plain": [
       "<Figure size 640x480 with 1 Axes>"
      ]
     },
     "metadata": {},
     "output_type": "display_data"
    }
   ],
   "source": [
    "def imshow(input, title):\n",
    "    # torch.Tensor를 numpy 객체로 변환\n",
    "    input = input.numpy().transpose((1, 2, 0))\n",
    "    # 이미지 정규화 해제하기\n",
    "    mean = np.array([0.485, 0.456, 0.406])\n",
    "    std = np.array([0.229, 0.224, 0.225])\n",
    "    input = std * input + mean\n",
    "    input = np.clip(input, 0, 1)\n",
    "    # 이미지 출력\n",
    "    plt.title(title)\n",
    "    plt.show()\n",
    "\n",
    "\n",
    "# 학습 데이터를 배치 단위로 불러오기\n",
    "iterator = iter(train_dataloader)\n",
    "\n",
    "# 현재 배치를 이용해 격자 형태의 이미지를 만들어 시각화\n",
    "inputs, classes = next(iterator)\n",
    "out = torchvision.utils.make_grid(inputs)\n",
    "imshow(out, title=[class_names[x] for x in classes])\n"
   ]
  },
  {
   "cell_type": "code",
   "execution_count": 33,
   "metadata": {},
   "outputs": [
    {
     "name": "stdout",
     "output_type": "stream",
     "text": [
      "#0 Loss: 0.3278 Acc: 87.8125% Time: 49.9809s\n",
      "#1 Loss: 0.1229 Acc: 96.1875% Time: 94.4300s\n",
      "#2 Loss: 0.1123 Acc: 97.0625% Time: 138.8121s\n",
      "#3 Loss: 0.0602 Acc: 98.3125% Time: 183.0201s\n",
      "#4 Loss: 0.0332 Acc: 99.1875% Time: 229.0197s\n",
      "#5 Loss: 0.0521 Acc: 98.5625% Time: 274.2780s\n",
      "#6 Loss: 0.0543 Acc: 98.4375% Time: 321.9089s\n",
      "#7 Loss: 0.0184 Acc: 99.5625% Time: 368.5187s\n",
      "#8 Loss: 0.0277 Acc: 99.1250% Time: 414.1571s\n",
      "#9 Loss: 0.0406 Acc: 99.0000% Time: 460.4234s\n"
     ]
    }
   ],
   "source": [
    "seed_everything()\n",
    "\n",
    "num_epochs = 10\n",
    "model.train()\n",
    "start_time = time.time()\n",
    "\n",
    "# 전체 반복(epoch) 수 만큼 반복하며\n",
    "for epoch in range(num_epochs):\n",
    "    running_loss = 0.\n",
    "    running_corrects = 0\n",
    "\n",
    "    # 배치 단위로 학습 데이터 불러오기\n",
    "    for inputs, labels in train_dataloader:\n",
    "        inputs = inputs.to(device)\n",
    "        labels = labels.to(device)\n",
    "\n",
    "        # 모델에 입력(forward)하고 결과 계산\n",
    "        optimizer.zero_grad()\n",
    "        outputs = model(inputs)\n",
    "        _, preds = torch.max(outputs, 1)\n",
    "        loss = criterion(outputs, labels)\n",
    "\n",
    "        # 역전파를 통해 기울기(gradient) 계산 및 학습 진행\n",
    "        loss.backward()\n",
    "        optimizer.step()\n",
    "\n",
    "        running_loss += loss.item() * inputs.size(0)\n",
    "        running_corrects += torch.sum(preds == labels.data)\n",
    "\n",
    "    epoch_loss = running_loss / len(train_datasets)\n",
    "    epoch_acc = running_corrects / len(train_datasets) * 100.\n",
    "\n",
    "    # 학습 과정 중에 결과 출력\n",
    "    print('#{} Loss: {:.4f} Acc: {:.4f}% Time: {:.4f}s'.format(epoch, epoch_loss, epoch_acc, time.time() - start_time))\n"
   ]
  }
 ],
 "metadata": {
  "kernelspec": {
   "display_name": "PyeonHaeng",
   "language": "python",
   "name": "python3"
  },
  "language_info": {
   "codemirror_mode": {
    "name": "ipython",
    "version": 3
   },
   "file_extension": ".py",
   "mimetype": "text/x-python",
   "name": "python",
   "nbconvert_exporter": "python",
   "pygments_lexer": "ipython3",
   "version": "3.10.9"
  },
  "orig_nbformat": 4,
  "vscode": {
   "interpreter": {
    "hash": "1d4ea8edb1a92ac115b7ebac9c9ea0b8e7cd9e9f0333d86e680b1626844b5d02"
   }
  }
 },
 "nbformat": 4,
 "nbformat_minor": 2
}
