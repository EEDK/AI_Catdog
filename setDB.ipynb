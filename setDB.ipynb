{
 "cells": [
  {
   "cell_type": "code",
   "execution_count": 1,
   "metadata": {},
   "outputs": [
    {
     "name": "stderr",
     "output_type": "stream",
     "text": [
      "c:\\Users\\kde96\\.conda\\envs\\PyeonHaeng\\lib\\site-packages\\tqdm\\auto.py:21: TqdmWarning: IProgress not found. Please update jupyter and ipywidgets. See https://ipywidgets.readthedocs.io/en/stable/user_install.html\n",
      "  from .autonotebook import tqdm as notebook_tqdm\n",
      "c:\\Users\\kde96\\.conda\\envs\\PyeonHaeng\\lib\\site-packages\\torchvision\\models\\_utils.py:223: UserWarning: Arguments other than a weight enum or `None` for 'weights' are deprecated since 0.13 and may be removed in the future. The current behavior is equivalent to passing `weights=ResNet34_Weights.IMAGENET1K_V1`. You can also use `weights=ResNet34_Weights.DEFAULT` to get the most up-to-date weights.\n",
      "  warnings.warn(msg)\n"
     ]
    }
   ],
   "source": [
    "import torch\n",
    "import torchvision\n",
    "import torch.nn as nn\n",
    "\n",
    "import matplotlib.pyplot as plt\n",
    "import os\n",
    "import numpy as np\n",
    "\n",
    "\n",
    "device = 'cuda' if torch.cuda.is_available() else 'cpu'\n",
    "cnn_model = torchvision.models.resnet34(weights=True)\n",
    "num_features = cnn_model.fc.in_features\n",
    "cnn_model.fc = nn.Linear(num_features, 8)\n",
    "cnn_model.load_state_dict(torch.load('./cnn.pth'))\n",
    "criterion = nn.CrossEntropyLoss()\n",
    "optimizer = torch.optim.SGD(cnn_model.parameters(), lr=0.001, momentum=0.9)\n",
    "\n",
    "\n",
    "\n",
    "test_dir = './dataset/AI-DATASET/data/test'\n",
    "\n",
    "transforms_test = torchvision.transforms.Compose([\n",
    "    torchvision.transforms.Resize((224, 224)),\n",
    "    torchvision.transforms.ToTensor(),\n",
    "    torchvision.transforms.Normalize(\n",
    "        [0.485, 0.456, 0.406], [0.229, 0.224, 0.225])\n",
    "])\n"
   ]
  },
  {
   "cell_type": "code",
   "execution_count": 6,
   "metadata": {},
   "outputs": [],
   "source": [
    "class CustomDataset(torch.utils.data.Dataset):\n",
    "    def __init__(self, files, root, mode='train', transform=None):\n",
    "        self.files = files\n",
    "        self.root = root\n",
    "        self.mode = mode\n",
    "        self.transform=transform\n",
    "        \n",
    "        if 'beverage_can' in files[0]:\n",
    "            self.label = 0\n",
    "        elif 'beverage_bottle' in files[0]:\n",
    "            self.label = 1\n",
    "        elif 'noodle_bag' in files[0]:\n",
    "            self.label = 2\n",
    "        elif 'noodle_cup' in files[0]:\n",
    "            self.label = 3\n",
    "        elif 'beverage_milk' in files[0]:\n",
    "            self.label = 4\n",
    "        elif 'icecream' in files[0]:\n",
    "            self.label = 5\n",
    "        else:\n",
    "            self.label = 6\n",
    "\n",
    "\n",
    "    def __len__(self):\n",
    "        return len(self.files)\n",
    "    \n",
    "    def __getitem__(self, index):\n",
    "        img = plt.Image.open(os.path.join(self.root, self.files[index]))\n",
    "        \n",
    "        if self.transform:\n",
    "            img = self.transform(img)\n",
    "        if self.mode == 'train':\n",
    "            return img, np.array([self.label])\n",
    "        else:\n",
    "            return img, self.files[index]\n",
    "        \n",
    "test_files = [f'{i}.jpg' for i in range(1, 20315+1)]\n",
    "test_datasets = CustomDataset(files=test_files, root=test_dir, mode='test', transform=transforms_test)\n",
    "test_dataloader = torch.utils.data.DataLoader(\n",
    "    test_datasets, batch_size=32, shuffle=False)\n",
    "\n"
   ]
  },
  {
   "cell_type": "code",
   "execution_count": 7,
   "metadata": {},
   "outputs": [],
   "source": [
    "imgs, files = iter(test_dataloader).next()"
   ]
  }
 ],
 "metadata": {
  "kernelspec": {
   "display_name": "PyeonHaeng",
   "language": "python",
   "name": "python3"
  },
  "language_info": {
   "codemirror_mode": {
    "name": "ipython",
    "version": 3
   },
   "file_extension": ".py",
   "mimetype": "text/x-python",
   "name": "python",
   "nbconvert_exporter": "python",
   "pygments_lexer": "ipython3",
   "version": "3.10.9"
  },
  "orig_nbformat": 4,
  "vscode": {
   "interpreter": {
    "hash": "1d4ea8edb1a92ac115b7ebac9c9ea0b8e7cd9e9f0333d86e680b1626844b5d02"
   }
  }
 },
 "nbformat": 4,
 "nbformat_minor": 2
}
