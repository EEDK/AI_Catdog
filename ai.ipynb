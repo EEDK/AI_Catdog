{
 "cells": [
  {
   "cell_type": "code",
   "execution_count": 7,
   "metadata": {},
   "outputs": [
    {
     "name": "stdout",
     "output_type": "stream",
     "text": [
      "./dataset/cats_and_dogs_filtered\\train\\cats\n",
      "./dataset/cats_and_dogs_filtered\\train\\dogs\n",
      "./dataset/cats_and_dogs_filtered\\validation\\cats\n",
      "./dataset/cats_and_dogs_filtered\\validation\\dogs\n"
     ]
    }
   ],
   "source": [
    "import torch\n",
    "import os\n",
    "\n",
    "device = 'cuda' if torch.cuda.is_available() else 'cpu'\n",
    "\n",
    "baseDir = './dataset/cats_and_dogs_filtered'\n",
    "\n",
    "trainDir = os.path.join(baseDir, 'train')\n",
    "validationDir = os.path.join(baseDir, 'validation')\n",
    "\n",
    "\n",
    "# 훈련 데이터 이미지\n",
    "trainCatsDir = os.path.join(trainDir, 'cats')\n",
    "trainDogsDir = os.path.join(trainDir, 'dogs')\n",
    "\n",
    "print(trainCatsDir)\n",
    "print(trainDogsDir)\n",
    "\n",
    "# 테스트에 사용되는 경로\n",
    "validationCatsDir = os.path.join(validationDir, 'cats')\n",
    "validationDogsDir = os.path.join(validationDir, 'dogs')\n",
    "\n",
    "print(validationCatsDir)\n",
    "print(validationDogsDir)\n",
    "\n"
   ]
  },
  {
   "attachments": {},
   "cell_type": "markdown",
   "metadata": {},
   "source": [
    "학습을 위한 데이터 경로 설정 완료"
   ]
  }
 ],
 "metadata": {
  "kernelspec": {
   "display_name": "base",
   "language": "python",
   "name": "python3"
  },
  "language_info": {
   "codemirror_mode": {
    "name": "ipython",
    "version": 3
   },
   "file_extension": ".py",
   "mimetype": "text/x-python",
   "name": "python",
   "nbconvert_exporter": "python",
   "pygments_lexer": "ipython3",
   "version": "3.9.13"
  },
  "orig_nbformat": 4,
  "vscode": {
   "interpreter": {
    "hash": "6519f964cebd9a100e9337f1fefd06296920080a9869f64899604c0b749f145c"
   }
  }
 },
 "nbformat": 4,
 "nbformat_minor": 2
}
