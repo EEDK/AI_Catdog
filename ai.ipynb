{
 "cells": [
  {
   "cell_type": "code",
   "execution_count": 2,
   "metadata": {},
   "outputs": [
    {
     "name": "stdout",
     "output_type": "stream",
     "text": [
      "cuda\n",
      "./dataset/cats_and_dogs_filtered\\train\\cats\n",
      "./dataset/cats_and_dogs_filtered\\train\\dogs\n",
      "./dataset/cats_and_dogs_filtered\\validation\\cats\n",
      "./dataset/cats_and_dogs_filtered\\validation\\dogs\n"
     ]
    }
   ],
   "source": [
    "import torch\n",
    "import os\n",
    "\n",
    "import zipfile\n",
    "\n",
    "device = 'cuda' if torch.cuda.is_available() else 'cpu'\n",
    "\n",
    "data_zip_dir = './dataset/dogs-vs-cats-redux-kernels-edition'\n",
    "train_zip_dir = os.path.join(data_zip_dir, 'train.zip')\n",
    "test_zip_dir = os.path.join(data_zip_dir, 'test.zip')\n",
    "\n",
    "with zipfile.ZipFile(train_zip_dir, 'r') as z:\n",
    "    z.extractall()\n",
    "with zipfile.ZipFile(test_zip_dir, 'r') as z:\n",
    "    z.extractall()\n"
   ]
  },
  {
   "cell_type": "code",
   "execution_count": null,
   "metadata": {},
   "outputs": [],
   "source": [
    "train_dir = os.path.join(os.getcwd(), 'train')\n",
    "test_dir = os.path.join(os.getcwd(), 'test')\n",
    " \n",
    "train_set_dir = os.path.join(train_dir, 'train')\n",
    "os.mkdir(train_set_dir)\n",
    "valid_set_dir = os.path.join(train_dir, 'valid')\n",
    "os.mkdir(valid_set_dir)\n",
    "test_set_dir = os.path.join(train_dir, 'test')\n",
    "os.mkdir(test_set_dir)\n",
    " \n",
    "dog_files = [f'dog.{i}.jpg' for i in range(12500)]\n",
    "cat_files = [f'cat.{i}.jpg' for i in range(12500)]\n",
    "\n"
   ]
  },
  {
   "cell_type": "code",
   "execution_count": 6,
   "metadata": {},
   "outputs": [],
   "source": [
    "dog_files = [f'dog.{i}.jpg' for i in range(12500)]\n",
    "cat_files = [f'cat.{i}.jpg' for i in range(12500)]\n"
   ]
  }
 ],
 "metadata": {
  "kernelspec": {
   "display_name": "PyeonHaeng",
   "language": "python",
   "name": "python3"
  },
  "language_info": {
   "codemirror_mode": {
    "name": "ipython",
    "version": 3
   },
   "file_extension": ".py",
   "mimetype": "text/x-python",
   "name": "python",
   "nbconvert_exporter": "python",
   "pygments_lexer": "ipython3",
   "version": "3.10.9"
  },
  "orig_nbformat": 4,
  "vscode": {
   "interpreter": {
    "hash": "1d4ea8edb1a92ac115b7ebac9c9ea0b8e7cd9e9f0333d86e680b1626844b5d02"
   }
  }
 },
 "nbformat": 4,
 "nbformat_minor": 2
}
