{
 "cells": [
  {
   "attachments": {},
   "cell_type": "markdown",
   "metadata": {},
   "source": [
    "https://www.kaggle.com/c/dogs-vs-cats-redux-kernels-edition\n",
    "\n",
    "# DOG AND CAT 데이터 셋 다운로드"
   ]
  },
  {
   "cell_type": "code",
   "execution_count": 13,
   "metadata": {},
   "outputs": [],
   "source": [
    "import torch\n",
    "import os\n",
    "\n",
    "import zipfile\n",
    "import shutil\n",
    "\n",
    "device = 'cuda' if torch.cuda.is_available() else 'cpu'\n",
    "\n",
    "data_zip_dir = './dataset/dogs-vs-cats-redux-kernels-edition'\n",
    "train_zip_dir = os.path.join(data_zip_dir, 'train.zip')\n",
    "test_zip_dir = os.path.join(data_zip_dir, 'test.zip')\n",
    "\n",
    "\"\"\"\n",
    "압축 해제 및 train / test 포러더 생성 \n",
    "\"\"\"\n",
    "\n",
    "with zipfile.ZipFile(train_zip_dir, 'r') as z:\n",
    "    z.extractall()\n",
    "with zipfile.ZipFile(test_zip_dir, 'r') as z:\n",
    "    z.extractall()\n",
    "\n",
    "train_dir = os.path.join(os.getcwd(), 'train')\n",
    "test_dir = os.path.join(os.getcwd(), 'test')\n",
    " \n",
    "train_set_dir = os.path.join(train_dir, 'train')\n",
    "os.mkdir(train_set_dir)\n",
    "valid_set_dir = os.path.join(train_dir, 'valid')\n",
    "os.mkdir(valid_set_dir)\n",
    "test_set_dir = os.path.join(train_dir, 'test')\n",
    "os.mkdir(test_set_dir)\n",
    " \n",
    "dog_files = [f'dog.{i}.jpg' for i in range(12500)]\n",
    "cat_files = [f'cat.{i}.jpg' for i in range(12500)]\n",
    "\n",
    "for dog, cat in zip(dog_files[:10000], cat_files[:10000]):\n",
    "    src = os.path.join(train_dir, dog)\n",
    "    dst = os.path.join(train_set_dir, dog)\n",
    "    shutil.move(src, dst)\n",
    "    src = os.path.join(train_dir, cat)\n",
    "    dst = os.path.join(train_set_dir, cat)\n",
    "    shutil.move(src, dst)\n",
    "    \n",
    "for dog, cat in zip(dog_files[10000:11250], cat_files[10000:11250]):\n",
    "    src = os.path.join(train_dir, dog)\n",
    "    dst = os.path.join(valid_set_dir, dog)\n",
    "    shutil.move(src, dst)\n",
    "    src = os.path.join(train_dir, cat)\n",
    "    dst = os.path.join(valid_set_dir, cat)\n",
    "    shutil.move(src, dst)\n",
    "    \n",
    "for dog, cat in zip(dog_files[11250:12500], cat_files[11250:12500]):\n",
    "    src = os.path.join(train_dir, dog)\n",
    "    dst = os.path.join(test_set_dir, dog)\n",
    "    shutil.move(src, dst)\n",
    "    src = os.path.join(train_dir, cat)\n",
    "    dst = os.path.join(test_set_dir, cat)\n",
    "    shutil.move(src, dst)\n"
   ]
  },
  {
   "cell_type": "code",
   "execution_count": 14,
   "metadata": {},
   "outputs": [
    {
     "name": "stdout",
     "output_type": "stream",
     "text": [
      "the number of train set : 20000\n",
      "the number of validn set : 2500\n",
      "the number of test set : 2500\n"
     ]
    }
   ],
   "source": [
    "\n",
    "\n",
    "print(f'the number of train set : {len(os.listdir(train_set_dir))}')\n",
    "print(f'the number of validn set : {len(os.listdir(valid_set_dir))}')\n",
    "print(f'the number of test set : {len(os.listdir(test_set_dir))}')"
   ]
  }
 ],
 "metadata": {
  "kernelspec": {
   "display_name": "PyeonHaeng",
   "language": "python",
   "name": "python3"
  },
  "language_info": {
   "codemirror_mode": {
    "name": "ipython",
    "version": 3
   },
   "file_extension": ".py",
   "mimetype": "text/x-python",
   "name": "python",
   "nbconvert_exporter": "python",
   "pygments_lexer": "ipython3",
   "version": "3.10.9"
  },
  "orig_nbformat": 4,
  "vscode": {
   "interpreter": {
    "hash": "1d4ea8edb1a92ac115b7ebac9c9ea0b8e7cd9e9f0333d86e680b1626844b5d02"
   }
  }
 },
 "nbformat": 4,
 "nbformat_minor": 2
}
